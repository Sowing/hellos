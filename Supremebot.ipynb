{
 "cells": [
  {
   "cell_type": "code",
   "execution_count": null,
   "metadata": {},
   "outputs": [],
   "source": []
  },
  {
   "cell_type": "code",
   "execution_count": null,
   "metadata": {},
   "outputs": [],
   "source": [
    "with requests.Session() as session:\n",
    "    session.headers = {'User-Agent': 'Mozilla/5.0 (Macintosh; Intel Mac OS X 10_10_2) AppleWebKit/537.36 (KHTML, like Gecko) Chrome/40.0.2214.115 Safari/537.36'}\n",
    "\n",
    "    # parsing parameters\n",
    "    response = session.get(url)\n",
    "    soup = BeautifulSoup(response.content,'lxml')\n",
    "    mem_dict = {'372':'Academic', '254':'Affiliate', '245':'Contributor','243':'Sponsor BoD'}\n",
    "    data = {\n",
    "        'dnn$ctr1036$AboutMembers$ctl00$ddlSegment': '0',\n",
    "        'dnn$ctr1036$AboutMembers$ctl00$ddlMembershipLevel': '0',\n",
    "        'dnn$ctr1036$AboutMembers$ctl00$btnSearch': 'search',\n",
    "        'StylesheetManager_TSSM': soup.find('input', {'name': 'StylesheetManager_TSSM'}).get('value', ''),\n",
    "        'ScriptManager_TSM': soup.find('input', {'name': 'ScriptManager_TSM'}).get('value', ''),\n",
    "        '__EVENTTARGET': soup.find('input', {'name': '__EVENTTARGET'}).get('value', ''),\n",
    "        '__VIEWSTATE': soup.find('input', {'name': '__VIEWSTATE'}).get('value', ''),\n",
    "        '__EVENTARGUMENT': soup.find('input', {'name': '__EVENTARGUMENT'}).get('value', ''),\n",
    "        '__VIEWSTATEGENERATOR': soup.find('input', {'name': '__VIEWSTATEGENERATOR'}).get('value', ''),\n",
    "        '__VIEWSTATEENCRYPTED': soup.find('input', {'name': '__VIEWSTATEENCRYPTED'}).get('value', ''),\n",
    "        '__EVENTVALIDATION': soup.find('input', {'name': '__EVENTVALIDATION'}).get('value', '')\n",
    "      }\n",
    "    for key in mem_dict.keys():\n",
    "        membership = mem_dict[key]\n",
    "        #selecting the memebership\n",
    "        data['dnn$ctr1036$AboutMembers$ctl00$ddlMembershipLevel'] = key\n",
    "        #parsing data\n",
    "        response = session.post(url, data=data)\n",
    "        soup = BeautifulSoup(response.content, 'lxml')\n",
    "        div = soup.find('div',{'id':'logo-col-3'})\n",
    "        for li in div.find_all('li',{'style':\"cursor: pointer;\"}):\n",
    "            try:\n",
    "                name = li.img.get('alt').encode('utf8')\n",
    "            except AttributeError:\n",
    "                name = li.text.strip().encode('utf8')\n",
    "            company_dict2[name]['membership'] = membership\n"
   ]
  },
  {
   "cell_type": "code",
   "execution_count": 2,
   "metadata": {},
   "outputs": [],
   "source": [
    "import requests\n",
    "import lxml\n",
    "from bs4 import BeautifulSoup"
   ]
  },
  {
   "cell_type": "code",
   "execution_count": 9,
   "metadata": {},
   "outputs": [
    {
     "name": "stdout",
     "output_type": "stream",
     "text": [
      "\n",
      "<!DOCTYPE html PUBLIC \"-//W3C//DTD XHTML 1.0 Strict//EN\"\"http://www.w3.org/TR/xhtml1/DTD/xhtml1-strict.dtd\"><html xmlns=\"http://www.w3.org/1999/xhtml\" xml:lang=\"en\" lang=\"en\"><head><meta http-equiv=\"Content-Type\" content=\"text/html;charset=utf-8\"/><meta http-equiv=\"imagetoolbar\" content=\"false\"/><title>Supreme</title><meta name=\"description\" content=\"Supreme. The official website of Supreme. EST 1994. NYC.\"/><script src=\"//d2flb1n945r21v.cloudfront.net/lib.js?1361791815\" type=\"text/javascript\"></script><script src=\"//d2flb1n945r21v.cloudfront.net/error.js\" type=\"text/javascript\"></script><link href=\"//d2flb1n945r21v.cloudfront.net/compressed.css?1361791816\" media=\"screen\" rel=\"stylesheet\" type=\"text/css\"/><style type=\"text/css\"> #home_nav li{color: #888;}</style></head><body class=\"home\"><div id=\"content\"><div id=\"home_header\"><h1 class=\"logo\"><img alt=\"Supreme\" height=\"45\" hidefocus=\"true\" src=\"http://d17ol771963kd3.cloudfront.net/assets/logo-supreme-x2.png?1361791815\" width=\"150\"/></h1><p class=\"cal\"><span class=\"current_time\">03/05/2018 04:51am</span> NYC</p></div><ul id=\"home_nav\"><li><a href=\"http://www.supremenewyork.com/news\"><span>news</span></a></li><li><a href=\"/previews/fallwinter2018\"><span>fall/winter 2018 preview</span></a></li><li><a href=\"/lookbooks\" class=\"lookbook_link\"><span>fall/winter 2018 lookbook</span></a></li><li>shop</li><li id=\"random_nav_home\"><a href=\"/random/index?from_index=true\" class=\"no-right-padding\"><span>random</span></a></li><li><a href=\"/about\"><span>about</span></a></li><li><a href=\"/stores\"><span>stores</span></a></li><li><a href=\"/contact\"><span>contact</span></a></li><li><a href=\"/mailinglist\"><span>mailinglist</span></a></li></ul></div></body></html>\n",
      "\n"
     ]
    }
   ],
   "source": [
    "url = 'http://www.supremenewyork.com/shop/all/accessories'\n",
    "headers = {\n",
    "    \"Host\": \"www.supremenewyork.com\",\n",
    "    \"Connection\": \"keep-alive\",\n",
    "    \"Cache-Control\": \"max-age=0\",\n",
    "    \"Upgrade-Insecure-Requests\": \"1\",\n",
    "    \"User-Agent\": \"Mozilla/5.0 (Macintosh; Intel Mac OS X 10_12_3) AppleWebKit/537.36 (KHTML, like Gecko) Chrome/60.0.3112.113 Safari/537.36\",\n",
    "    \"Accept\": \"text/html,application/xhtml+xml,application/xml;q=0.9,image/webp,image/apng,*/*;q=0.8\"\n",
    "}\n",
    "with requests.Session() as session:\n",
    "    session.headers =  headers\n",
    "    response = session.get(url,headers=headers).text\n",
    "    print response\n"
   ]
  },
  {
   "cell_type": "code",
   "execution_count": 4,
   "metadata": {},
   "outputs": [
    {
     "data": {
      "text/plain": [
       "<!DOCTYPE html PUBLIC \"-//W3C//DTD XHTML 1.0 Strict//EN\" \"http://www.w3.org/TR/xhtml1/DTD/xhtml1-strict.dtd\">\\n<html lang=\"en\" xml:lang=\"en\" xmlns=\"http://www.w3.org/1999/xhtml\"><head><meta content=\"text/html;charset=unicode-escape\" http-equiv=\"Content-Type\"/><meta content=\"false\" http-equiv=\"imagetoolbar\"/><title>Supreme</title><meta content=\"Supreme. The official website of Supreme. EST 1994. NYC.\" name=\"description\"/><script src=\"//d2flb1n945r21v.cloudfront.net/lib.js?1361791815\" type=\"text/javascript\"></script><script src=\"//d2flb1n945r21v.cloudfront.net/error.js\" type=\"text/javascript\"></script><link href=\"//d2flb1n945r21v.cloudfront.net/compressed.css?1361791816\" media=\"screen\" rel=\"stylesheet\" type=\"text/css\"/><style type=\"text/css\"> #home_nav li{color: #888;}</style></head><body class=\"home\"><div id=\"content\"><div id=\"home_header\"><h1 class=\"logo\"><img alt=\"Supreme\" height=\"45\" hidefocus=\"true\" src=\"http://d17ol771963kd3.cloudfront.net/assets/logo-supreme-x2.png?1361791815\" width=\"150\"/></h1><p class=\"cal\"><span class=\"current_time\">03/05/2018 04:51am</span> NYC</p></div><ul id=\"home_nav\"><li><a href=\"http://www.supremenewyork.com/news\"><span>news</span></a></li><li><a href=\"/previews/fallwinter2018\"><span>fall/winter 2018 preview</span></a></li><li><a class=\"lookbook_link\" href=\"/lookbooks\"><span>fall/winter 2018 lookbook</span></a></li><li>shop</li><li id=\"random_nav_home\"><a class=\"no-right-padding\" href=\"/random/index?from_index=true\"><span>random</span></a></li><li><a href=\"/about\"><span>about</span></a></li><li><a href=\"/stores\"><span>stores</span></a></li><li><a href=\"/contact\"><span>contact</span></a></li><li><a href=\"/mailinglist\"><span>mailinglist</span></a></li></ul></div></body></html>\\n"
      ]
     },
     "execution_count": 4,
     "metadata": {},
     "output_type": "execute_result"
    }
   ],
   "source": [
    "soup"
   ]
  }
 ],
 "metadata": {
  "kernelspec": {
   "display_name": "Python 2",
   "language": "python",
   "name": "python2"
  },
  "language_info": {
   "codemirror_mode": {
    "name": "ipython",
    "version": 2
   },
   "file_extension": ".py",
   "mimetype": "text/x-python",
   "name": "python",
   "nbconvert_exporter": "python",
   "pygments_lexer": "ipython2",
   "version": "2.7.12"
  }
 },
 "nbformat": 4,
 "nbformat_minor": 2
}
